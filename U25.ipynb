{
 "cells": [
  {
   "cell_type": "markdown",
   "metadata": {},
   "source": [
    "UNDER 25 e/triiisha Code Smarter, Live Smarter"
   ]
  },
  {
   "cell_type": "code",
   "execution_count": 3,
   "metadata": {},
   "outputs": [
    {
     "name": "stdout",
     "output_type": "stream",
     "text": [
      "Hey e/triiisha, welcome to your water tracker!\n",
      "\n",
      "Okay, I'll remind you every 1 minutes.\n",
      "Your goal is 3.0 liters of water today.\n",
      "\n",
      "💧 It's time for water!\n",
      "Total so far: 1.00 liters.\n",
      "\n",
      "💧 It's time for water!\n",
      "Total so far: 2.50 liters.\n",
      "\n",
      "💧 It's time for water!\n",
      "Total so far: 3.50 liters.\n",
      "\n",
      "🎉 Wow! You did it! You've hit your goal!\n"
     ]
    }
   ],
   "source": [
    "import time\n",
    "user = \"e/triiisha\"\n",
    "print(f\"Hey {user}, welcome to your water tracker!\")\n",
    "\n",
    "def get_input():\n",
    "    reminder_interval = int(input(\"\\nHow often do you want to be reminded (in minutes)? \"))\n",
    "    daily_goal = float(input(\"How much water do you want to drink today (in liters)? \"))\n",
    "    return reminder_interval, daily_goal\n",
    "\n",
    "def remind_to_drink(reminder_interval, daily_goal):\n",
    "    total_drunk = 0\n",
    "    print(f\"\\nOkay, I'll remind you every {reminder_interval} minutes.\")\n",
    "    print(f\"Your goal is {daily_goal} liters of water today.\")\n",
    "    try:\n",
    "        while True:\n",
    "            time.sleep(reminder_interval * 60)  # wait before reminding\n",
    "            print(\"\\n💧 It's time for water!\")\n",
    "\n",
    "            water_today = float(input(\"How much did you drink? (in liters) \"))\n",
    "            total_drunk += water_today\n",
    "            print(f\"Total so far: {total_drunk:.2f} liters.\")\n",
    "            \n",
    "            if total_drunk >= daily_goal:\n",
    "                print(\"\\n🎉 Wow! You did it! You've hit your goal!\")\n",
    "                break\n",
    "    except KeyboardInterrupt:\n",
    "        print(f\"\\nThanks for staying hydrated, {user}! Here's the final count for today:\")\n",
    "        print(f\"Total water drunk: {total_drunk:.2f} liters.\")\n",
    "        if total_drunk >= daily_goal:\n",
    "            print(\"You reached your goal!\")\n",
    "        else:\n",
    "            print(f\"You still need {daily_goal - total_drunk:.2f} liters.\")\n",
    "        print(\"Take care!\")\n",
    "interval, goal = get_input()\n",
    "remind_to_drink(interval, goal)"
   ]
  },
  {
   "cell_type": "code",
   "execution_count": null,
   "metadata": {},
   "outputs": [],
   "source": [
    "\"\"\" Hiiii i took the reminder as 1 minute so that i can show the output quicker.. \n",
    "You can set your reminder as per your needs (I would prefer every 60 minutes)\"\"\" "
   ]
  }
 ],
 "metadata": {
  "kernelspec": {
   "display_name": "Python 3",
   "language": "python",
   "name": "python3"
  },
  "language_info": {
   "codemirror_mode": {
    "name": "ipython",
    "version": 3
   },
   "file_extension": ".py",
   "mimetype": "text/x-python",
   "name": "python",
   "nbconvert_exporter": "python",
   "pygments_lexer": "ipython3",
   "version": "3.13.1"
  }
 },
 "nbformat": 4,
 "nbformat_minor": 2
}
